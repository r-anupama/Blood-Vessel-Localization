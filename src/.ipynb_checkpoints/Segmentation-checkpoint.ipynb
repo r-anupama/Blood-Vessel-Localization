{
 "cells": [
  {
   "cell_type": "code",
   "execution_count": 8,
   "metadata": {},
   "outputs": [],
   "source": [
    "import numpy as np\n",
    "import cv2\n",
    "import os\n",
    "import pandas\n",
    "import matplotlib.pyplot as plt\n",
    "import scipy.io\n",
    "from sklearn.utils import shuffle"
   ]
  },
  {
   "cell_type": "code",
   "execution_count": 14,
   "metadata": {},
   "outputs": [],
   "source": [
    "def traindatagen(batch_size=16):\n",
    "    i=0\n",
    "    j=0\n",
    "    os.chdir(\"/Users/rahulr/Documents/ImageSegmentation/Blood-Vessel-Localization/results/ground_truth\") # Directory where training images are being stored\n",
    "    my_list = os.listdir()\n",
    "    max_iter = int(round(len(my_list),-2)) # We only want the iterations to be run till 110400 so we round it\n",
    "    X = np.zeros((batch_size,512,512,1))\n",
    "    Y = np.zeros((batch_size,4))\n",
    "    while True:\n",
    "        if i == batch_size:\n",
    "            i=0\n",
    "            yield X,Y # the yield keyword makes it the generator function\n",
    "        os.chdir(\"/Users/rahulr/Documents/ImageSegmentation/Blood-Vessel-Localization/results/ground_truth\")\n",
    "        img = cv2.imread(my_list[j])\n",
    "        img = img.mean(axis=2) # We take the mean across the second axis (python indexing starts from 0 so 0,1,2 ) to convert the images size from 512x512x3 into 512x512x1\n",
    "        img = img/255 # We normalize the images by dividing by 255\n",
    "        X[i,:,:,0] = img\n",
    "        os.chdir(\"/Users/rahulr/Documents/ImageSegmentation/Blood-Vessel-Localization/results/ground_truth\")\n",
    "        txt_file = my_list[j].replace(\".png\",\".txt\") # we take the associated labels in the corresponding .txt files\n",
    "        for line in open(txt_file):\n",
    "            row = line.split(\" \")\n",
    "            Y[i,0]=row[4]\n",
    "            Y[i,1]=row[5]\n",
    "            Y[i,2]=row[6]\n",
    "            Y[i,3]=row[7]\n",
    "        if j==int(max_iter):\n",
    "            j=-1\n",
    "            my_list = shuffle(my_list)\n",
    "        i+=1\n",
    "        j+=1\n",
    "        imgplot = plt.imshow(img)"
   ]
  },
  {
   "cell_type": "code",
   "execution_count": 15,
   "metadata": {},
   "outputs": [
    {
     "ename": "NameError",
     "evalue": "name 'img' is not defined",
     "output_type": "error",
     "traceback": [
      "\u001b[0;31m---------------------------------------------------------------------------\u001b[0m",
      "\u001b[0;31mNameError\u001b[0m                                 Traceback (most recent call last)",
      "\u001b[0;32m<ipython-input-15-745dd35bd1f9>\u001b[0m in \u001b[0;36m<module>\u001b[0;34m\u001b[0m\n\u001b[0;32m----> 1\u001b[0;31m \u001b[0mimgplot\u001b[0m \u001b[0;34m=\u001b[0m \u001b[0mplt\u001b[0m\u001b[0;34m.\u001b[0m\u001b[0mimshow\u001b[0m\u001b[0;34m(\u001b[0m\u001b[0mimg\u001b[0m\u001b[0;34m)\u001b[0m\u001b[0;34m\u001b[0m\u001b[0m\n\u001b[0m",
      "\u001b[0;31mNameError\u001b[0m: name 'img' is not defined"
     ]
    }
   ],
   "source": []
  },
  {
   "cell_type": "code",
   "execution_count": null,
   "metadata": {},
   "outputs": [],
   "source": [
    "def testdatagen(batch_size=16):\n",
    "    i=0\n",
    "    j=0\n",
    "    listname = []\n",
    "    os.chdir(\"/Users/rahulr/Documents/ImageSegmentation/Blood-Vessel-Localization/validation_image\") # Directory where images are being stored\n",
    "    my_list = os.listdir()\n",
    "    #max_iter = int(round(len(my_list)-2))\n",
    "    max_iter = (len(my_list)//batch_size)*batch_size\n",
    "    X = np.zeros((batch_size,512,512,1))\n",
    "    Y = np.zeros((batch_size,4))\n",
    "    while True:\n",
    "        if i == batch_size:\n",
    "            i=0\n",
    "            name_list = listname\n",
    "            listname=[]\n",
    "            yield X,Y,name_list\n",
    "        os.chdir(\"/Users/rahulr/Documents/ImageSegmentation/Blood-Vessel-Localization/validation_image\")\n",
    "        img = cv2.imread(my_list[j])\n",
    "        listname.append(my_list[j])\n",
    "        img = img.mean(axis=2) # We take the mean across the second axis (python indexing starts from 0 so 0,1,2 ) to convert the images size from 512x512x3 into 512x512x1\n",
    "        img = img/255\n",
    "        X[i,:,:,0] = img\n",
    "        os.chdir(\"/Users/rahulr/Documents/ImageSegmentation/Blood-Vessel-Localization/results/ground_truth\")\n",
    "        txt_file = my_list[j].replace(\".png\",\".txt\")\n",
    "        for line in open(txt_file):\n",
    "            row = line.split(\" \")\n",
    "            Y[i,0]=row[4]\n",
    "            Y[i,1]=row[5]\n",
    "            Y[i,2]=row[6]\n",
    "            Y[i,3]=row[7]\n",
    "        if j ==int(max_iter):\n",
    "            j = -1\n",
    "            my_list =shuffle(my_list)\n",
    "        i+=1\n",
    "        j+=1\n",
    "        imgplot = plt.imshow(img)\n"
   ]
  },
  {
   "cell_type": "code",
   "execution_count": 6,
   "metadata": {},
   "outputs": [],
   "source": [
    "# Sample Test Data "
   ]
  }
 ],
 "metadata": {
  "kernelspec": {
   "display_name": "Python 3",
   "language": "python",
   "name": "python3"
  },
  "language_info": {
   "codemirror_mode": {
    "name": "ipython",
    "version": 3
   },
   "file_extension": ".py",
   "mimetype": "text/x-python",
   "name": "python",
   "nbconvert_exporter": "python",
   "pygments_lexer": "ipython3",
   "version": "3.6.5"
  }
 },
 "nbformat": 4,
 "nbformat_minor": 2
}
